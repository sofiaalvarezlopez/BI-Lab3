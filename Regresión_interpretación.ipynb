{
 "cells": [
  {
   "cell_type": "markdown",
   "metadata": {},
   "source": [
    "### 1. Importación de librerías \n",
    "\n",
    "En las siguientes líneas de código se importan las librerías y herramientas necesarias para desarrollar el caso de uso."
   ]
  },
  {
   "cell_type": "code",
   "execution_count": 1,
   "metadata": {},
   "outputs": [],
   "source": [
    "# Librería para comando de sistema\n",
    "import os\n",
    "# Librerías para manejo de datos\n",
    "import pandas as pd\n",
    "import numpy as np\n",
    "import matplotlib.pyplot as plt\n",
    "import seaborn as sns\n",
    "# Librerías de aprendizaje automático.\n",
    "# Para realizar la separación del conjunto de aprendizaje en entrenamiento y test.\n",
    "from sklearn.model_selection import train_test_split\n",
    "# Para construir un modelo con el algoritmo de regresión lineal\n",
    "from sklearn.linear_model import LinearRegression\n",
    "# Para determinar el rendimiento del modelo con las métricas MSE, MAE y R2\n",
    "from sklearn.metrics import mean_squared_error, mean_absolute_error, r2_score\n",
    "# Para sacar un reporte estadístico que podemos usar para determinar las importancia de las variables explicativas.\n",
    "import statsmodels.api as sm "
   ]
  },
  {
   "cell_type": "markdown",
   "metadata": {},
   "source": [
    "### 2. Carga de los datos\n",
    "A través de la librería **pandas** podemos realizar la carga de datos desde diferentes fuentes de información, en este caso se realizará la carga de un archivo plano csv (archivo separado por comas)."
   ]
  },
  {
   "cell_type": "code",
   "execution_count": 2,
   "metadata": {},
   "outputs": [],
   "source": [
    "# Se cargan los datos. \n",
    "data=pd.read_csv('kc_house_data.csv', sep=';', encoding = 'utf-8')"
   ]
  },
  {
   "cell_type": "code",
   "execution_count": 4,
   "metadata": {},
   "outputs": [
    {
     "data": {
      "text/plain": [
       "(20095, 21)"
      ]
     },
     "execution_count": 4,
     "metadata": {},
     "output_type": "execute_result"
    }
   ],
   "source": [
    "# Cantidad de datos y número de variables\n",
    "data.shape"
   ]
  },
  {
   "cell_type": "code",
   "execution_count": 5,
   "metadata": {},
   "outputs": [
    {
     "data": {
      "text/html": [
       "<div>\n",
       "<style scoped>\n",
       "    .dataframe tbody tr th:only-of-type {\n",
       "        vertical-align: middle;\n",
       "    }\n",
       "\n",
       "    .dataframe tbody tr th {\n",
       "        vertical-align: top;\n",
       "    }\n",
       "\n",
       "    .dataframe thead th {\n",
       "        text-align: right;\n",
       "    }\n",
       "</style>\n",
       "<table border=\"1\" class=\"dataframe\">\n",
       "  <thead>\n",
       "    <tr style=\"text-align: right;\">\n",
       "      <th></th>\n",
       "      <th>id</th>\n",
       "      <th>date</th>\n",
       "      <th>price</th>\n",
       "      <th>bedrooms</th>\n",
       "      <th>bathrooms</th>\n",
       "      <th>sqft living</th>\n",
       "      <th>sqft lot</th>\n",
       "      <th>floors</th>\n",
       "      <th>waterfront</th>\n",
       "      <th>view</th>\n",
       "      <th>...</th>\n",
       "      <th>grade</th>\n",
       "      <th>sqft above</th>\n",
       "      <th>sqft basement</th>\n",
       "      <th>yr built</th>\n",
       "      <th>yr renovated</th>\n",
       "      <th>zipcode</th>\n",
       "      <th>lat</th>\n",
       "      <th>long</th>\n",
       "      <th>sqft living15</th>\n",
       "      <th>sqft lot15</th>\n",
       "    </tr>\n",
       "  </thead>\n",
       "  <tbody>\n",
       "    <tr>\n",
       "      <th>0</th>\n",
       "      <td>5101402488</td>\n",
       "      <td>20140624T000000</td>\n",
       "      <td>438000</td>\n",
       "      <td>3</td>\n",
       "      <td>1.75</td>\n",
       "      <td>1520</td>\n",
       "      <td>6380</td>\n",
       "      <td>1.0</td>\n",
       "      <td>0</td>\n",
       "      <td>0</td>\n",
       "      <td>...</td>\n",
       "      <td>7</td>\n",
       "      <td>790</td>\n",
       "      <td>730</td>\n",
       "      <td>1948</td>\n",
       "      <td>0</td>\n",
       "      <td>98115</td>\n",
       "      <td>47.695</td>\n",
       "      <td>-122.304</td>\n",
       "      <td>1520</td>\n",
       "      <td>6235</td>\n",
       "    </tr>\n",
       "    <tr>\n",
       "      <th>1</th>\n",
       "      <td>1873100390</td>\n",
       "      <td>20150302T000000</td>\n",
       "      <td>719000</td>\n",
       "      <td>4</td>\n",
       "      <td>2.50</td>\n",
       "      <td>2570</td>\n",
       "      <td>7173</td>\n",
       "      <td>2.0</td>\n",
       "      <td>0</td>\n",
       "      <td>0</td>\n",
       "      <td>...</td>\n",
       "      <td>8</td>\n",
       "      <td>2570</td>\n",
       "      <td>0</td>\n",
       "      <td>2005</td>\n",
       "      <td>0</td>\n",
       "      <td>98052</td>\n",
       "      <td>477.073</td>\n",
       "      <td>-122.110</td>\n",
       "      <td>2630</td>\n",
       "      <td>6026</td>\n",
       "    </tr>\n",
       "    <tr>\n",
       "      <th>2</th>\n",
       "      <td>8562750320</td>\n",
       "      <td>20141110T000000</td>\n",
       "      <td>580500</td>\n",
       "      <td>3</td>\n",
       "      <td>2.50</td>\n",
       "      <td>2320</td>\n",
       "      <td>3980</td>\n",
       "      <td>2.0</td>\n",
       "      <td>0</td>\n",
       "      <td>0</td>\n",
       "      <td>...</td>\n",
       "      <td>8</td>\n",
       "      <td>2320</td>\n",
       "      <td>0</td>\n",
       "      <td>2003</td>\n",
       "      <td>0</td>\n",
       "      <td>98027</td>\n",
       "      <td>475.391</td>\n",
       "      <td>-122.070</td>\n",
       "      <td>2580</td>\n",
       "      <td>3980</td>\n",
       "    </tr>\n",
       "    <tr>\n",
       "      <th>3</th>\n",
       "      <td>2426039314</td>\n",
       "      <td>20141201T000000</td>\n",
       "      <td>280000</td>\n",
       "      <td>2</td>\n",
       "      <td>1.50</td>\n",
       "      <td>1190</td>\n",
       "      <td>1265</td>\n",
       "      <td>3.0</td>\n",
       "      <td>0</td>\n",
       "      <td>0</td>\n",
       "      <td>...</td>\n",
       "      <td>7</td>\n",
       "      <td>1190</td>\n",
       "      <td>0</td>\n",
       "      <td>2005</td>\n",
       "      <td>0</td>\n",
       "      <td>98133</td>\n",
       "      <td>477.274</td>\n",
       "      <td>-122.357</td>\n",
       "      <td>1390</td>\n",
       "      <td>1756</td>\n",
       "    </tr>\n",
       "    <tr>\n",
       "      <th>4</th>\n",
       "      <td>461000390</td>\n",
       "      <td>20140624T000000</td>\n",
       "      <td>687500</td>\n",
       "      <td>4</td>\n",
       "      <td>1.75</td>\n",
       "      <td>2330</td>\n",
       "      <td>5000</td>\n",
       "      <td>1.5</td>\n",
       "      <td>0</td>\n",
       "      <td>0</td>\n",
       "      <td>...</td>\n",
       "      <td>7</td>\n",
       "      <td>1510</td>\n",
       "      <td>820</td>\n",
       "      <td>1929</td>\n",
       "      <td>0</td>\n",
       "      <td>98117</td>\n",
       "      <td>476.823</td>\n",
       "      <td>-122.368</td>\n",
       "      <td>1460</td>\n",
       "      <td>5000</td>\n",
       "    </tr>\n",
       "  </tbody>\n",
       "</table>\n",
       "<p>5 rows × 21 columns</p>\n",
       "</div>"
      ],
      "text/plain": [
       "           id             date   price  bedrooms  bathrooms  sqft living  \\\n",
       "0  5101402488  20140624T000000  438000         3       1.75         1520   \n",
       "1  1873100390  20150302T000000  719000         4       2.50         2570   \n",
       "2  8562750320  20141110T000000  580500         3       2.50         2320   \n",
       "3  2426039314  20141201T000000  280000         2       1.50         1190   \n",
       "4   461000390  20140624T000000  687500         4       1.75         2330   \n",
       "\n",
       "   sqft lot  floors  waterfront  view  ...  grade  sqft above  sqft basement  \\\n",
       "0      6380     1.0           0     0  ...      7         790            730   \n",
       "1      7173     2.0           0     0  ...      8        2570              0   \n",
       "2      3980     2.0           0     0  ...      8        2320              0   \n",
       "3      1265     3.0           0     0  ...      7        1190              0   \n",
       "4      5000     1.5           0     0  ...      7        1510            820   \n",
       "\n",
       "   yr built  yr renovated  zipcode      lat     long  sqft living15  \\\n",
       "0      1948             0    98115   47.695 -122.304           1520   \n",
       "1      2005             0    98052  477.073 -122.110           2630   \n",
       "2      2003             0    98027  475.391 -122.070           2580   \n",
       "3      2005             0    98133  477.274 -122.357           1390   \n",
       "4      1929             0    98117  476.823 -122.368           1460   \n",
       "\n",
       "   sqft lot15  \n",
       "0        6235  \n",
       "1        6026  \n",
       "2        3980  \n",
       "3        1756  \n",
       "4        5000  \n",
       "\n",
       "[5 rows x 21 columns]"
      ]
     },
     "execution_count": 5,
     "metadata": {},
     "output_type": "execute_result"
    }
   ],
   "source": [
    "# Mostrar los datos\n",
    "data.head()"
   ]
  },
  {
   "cell_type": "code",
   "execution_count": 6,
   "metadata": {},
   "outputs": [],
   "source": [
    "# Es recomendable que todos los pasos preparación se realicen sobre otro archivo.\n",
    "data_t = data"
   ]
  },
  {
   "cell_type": "markdown",
   "metadata": {},
   "source": [
    "### 3. Exploración y descripción de los datos\n"
   ]
  },
  {
   "cell_type": "code",
   "execution_count": 7,
   "metadata": {},
   "outputs": [
    {
     "data": {
      "text/html": [
       "<div>\n",
       "<style scoped>\n",
       "    .dataframe tbody tr th:only-of-type {\n",
       "        vertical-align: middle;\n",
       "    }\n",
       "\n",
       "    .dataframe tbody tr th {\n",
       "        vertical-align: top;\n",
       "    }\n",
       "\n",
       "    .dataframe thead th {\n",
       "        text-align: right;\n",
       "    }\n",
       "</style>\n",
       "<table border=\"1\" class=\"dataframe\">\n",
       "  <thead>\n",
       "    <tr style=\"text-align: right;\">\n",
       "      <th></th>\n",
       "      <th>id</th>\n",
       "      <th>price</th>\n",
       "      <th>bedrooms</th>\n",
       "      <th>bathrooms</th>\n",
       "      <th>sqft living</th>\n",
       "      <th>sqft lot</th>\n",
       "      <th>floors</th>\n",
       "      <th>waterfront</th>\n",
       "      <th>view</th>\n",
       "      <th>condition</th>\n",
       "      <th>grade</th>\n",
       "      <th>sqft above</th>\n",
       "      <th>sqft basement</th>\n",
       "      <th>yr built</th>\n",
       "      <th>yr renovated</th>\n",
       "      <th>zipcode</th>\n",
       "      <th>lat</th>\n",
       "      <th>long</th>\n",
       "      <th>sqft living15</th>\n",
       "      <th>sqft lot15</th>\n",
       "    </tr>\n",
       "  </thead>\n",
       "  <tbody>\n",
       "    <tr>\n",
       "      <th>count</th>\n",
       "      <td>2.009500e+04</td>\n",
       "      <td>20095.000000</td>\n",
       "      <td>20095.000000</td>\n",
       "      <td>20095.000000</td>\n",
       "      <td>20095.000000</td>\n",
       "      <td>2.009500e+04</td>\n",
       "      <td>20095.000000</td>\n",
       "      <td>20095.000000</td>\n",
       "      <td>20095.000000</td>\n",
       "      <td>20095.000000</td>\n",
       "      <td>20095.000000</td>\n",
       "      <td>20095.000000</td>\n",
       "      <td>20095.000000</td>\n",
       "      <td>20095.000000</td>\n",
       "      <td>20095.000000</td>\n",
       "      <td>20095.000000</td>\n",
       "      <td>20095.000000</td>\n",
       "      <td>20095.000000</td>\n",
       "      <td>20095.000000</td>\n",
       "      <td>20095.000000</td>\n",
       "    </tr>\n",
       "    <tr>\n",
       "      <th>mean</th>\n",
       "      <td>4.610466e+09</td>\n",
       "      <td>467065.093207</td>\n",
       "      <td>3.319781</td>\n",
       "      <td>2.038044</td>\n",
       "      <td>1954.059517</td>\n",
       "      <td>1.452180e+04</td>\n",
       "      <td>1.471062</td>\n",
       "      <td>0.002886</td>\n",
       "      <td>0.161383</td>\n",
       "      <td>3.404081</td>\n",
       "      <td>7.502662</td>\n",
       "      <td>1691.611694</td>\n",
       "      <td>262.447823</td>\n",
       "      <td>1970.778353</td>\n",
       "      <td>72.578900</td>\n",
       "      <td>98078.579099</td>\n",
       "      <td>430.656508</td>\n",
       "      <td>-122.213130</td>\n",
       "      <td>1907.721125</td>\n",
       "      <td>12391.785021</td>\n",
       "    </tr>\n",
       "    <tr>\n",
       "      <th>std</th>\n",
       "      <td>2.878156e+09</td>\n",
       "      <td>195522.284942</td>\n",
       "      <td>0.910581</td>\n",
       "      <td>0.703023</td>\n",
       "      <td>755.198372</td>\n",
       "      <td>4.002382e+04</td>\n",
       "      <td>0.536441</td>\n",
       "      <td>0.053648</td>\n",
       "      <td>0.617406</td>\n",
       "      <td>0.645434</td>\n",
       "      <td>1.014075</td>\n",
       "      <td>711.325325</td>\n",
       "      <td>403.682585</td>\n",
       "      <td>29.095242</td>\n",
       "      <td>373.572506</td>\n",
       "      <td>53.299835</td>\n",
       "      <td>131.159160</td>\n",
       "      <td>0.142614</td>\n",
       "      <td>600.508764</td>\n",
       "      <td>26471.802613</td>\n",
       "    </tr>\n",
       "    <tr>\n",
       "      <th>min</th>\n",
       "      <td>1.000102e+06</td>\n",
       "      <td>75000.000000</td>\n",
       "      <td>0.000000</td>\n",
       "      <td>0.000000</td>\n",
       "      <td>290.000000</td>\n",
       "      <td>5.200000e+02</td>\n",
       "      <td>1.000000</td>\n",
       "      <td>0.000000</td>\n",
       "      <td>0.000000</td>\n",
       "      <td>1.000000</td>\n",
       "      <td>1.000000</td>\n",
       "      <td>290.000000</td>\n",
       "      <td>0.000000</td>\n",
       "      <td>1900.000000</td>\n",
       "      <td>0.000000</td>\n",
       "      <td>98001.000000</td>\n",
       "      <td>47.184000</td>\n",
       "      <td>-122.519000</td>\n",
       "      <td>399.000000</td>\n",
       "      <td>651.000000</td>\n",
       "    </tr>\n",
       "    <tr>\n",
       "      <th>25%</th>\n",
       "      <td>2.141301e+09</td>\n",
       "      <td>314000.000000</td>\n",
       "      <td>3.000000</td>\n",
       "      <td>1.500000</td>\n",
       "      <td>1390.000000</td>\n",
       "      <td>5.000000e+03</td>\n",
       "      <td>1.000000</td>\n",
       "      <td>0.000000</td>\n",
       "      <td>0.000000</td>\n",
       "      <td>3.000000</td>\n",
       "      <td>7.000000</td>\n",
       "      <td>1170.000000</td>\n",
       "      <td>0.000000</td>\n",
       "      <td>1952.000000</td>\n",
       "      <td>0.000000</td>\n",
       "      <td>98033.000000</td>\n",
       "      <td>473.774000</td>\n",
       "      <td>-122.330000</td>\n",
       "      <td>1460.000000</td>\n",
       "      <td>5040.000000</td>\n",
       "    </tr>\n",
       "    <tr>\n",
       "      <th>50%</th>\n",
       "      <td>3.905121e+09</td>\n",
       "      <td>433000.000000</td>\n",
       "      <td>3.000000</td>\n",
       "      <td>2.000000</td>\n",
       "      <td>1840.000000</td>\n",
       "      <td>7.500000e+03</td>\n",
       "      <td>1.000000</td>\n",
       "      <td>0.000000</td>\n",
       "      <td>0.000000</td>\n",
       "      <td>3.000000</td>\n",
       "      <td>7.000000</td>\n",
       "      <td>1500.000000</td>\n",
       "      <td>0.000000</td>\n",
       "      <td>1974.000000</td>\n",
       "      <td>0.000000</td>\n",
       "      <td>98065.000000</td>\n",
       "      <td>475.453000</td>\n",
       "      <td>-122.233000</td>\n",
       "      <td>1790.000000</td>\n",
       "      <td>7529.000000</td>\n",
       "    </tr>\n",
       "    <tr>\n",
       "      <th>75%</th>\n",
       "      <td>7.340601e+09</td>\n",
       "      <td>592000.000000</td>\n",
       "      <td>4.000000</td>\n",
       "      <td>2.500000</td>\n",
       "      <td>2410.000000</td>\n",
       "      <td>1.026000e+04</td>\n",
       "      <td>2.000000</td>\n",
       "      <td>0.000000</td>\n",
       "      <td>0.000000</td>\n",
       "      <td>4.000000</td>\n",
       "      <td>8.000000</td>\n",
       "      <td>2080.000000</td>\n",
       "      <td>500.000000</td>\n",
       "      <td>1996.000000</td>\n",
       "      <td>0.000000</td>\n",
       "      <td>98118.000000</td>\n",
       "      <td>476.715000</td>\n",
       "      <td>-122.122000</td>\n",
       "      <td>2260.000000</td>\n",
       "      <td>9836.500000</td>\n",
       "    </tr>\n",
       "    <tr>\n",
       "      <th>max</th>\n",
       "      <td>9.900000e+09</td>\n",
       "      <td>999999.000000</td>\n",
       "      <td>33.000000</td>\n",
       "      <td>7.500000</td>\n",
       "      <td>7480.000000</td>\n",
       "      <td>1.651359e+06</td>\n",
       "      <td>3.500000</td>\n",
       "      <td>1.000000</td>\n",
       "      <td>4.000000</td>\n",
       "      <td>5.000000</td>\n",
       "      <td>12.000000</td>\n",
       "      <td>5710.000000</td>\n",
       "      <td>2720.000000</td>\n",
       "      <td>2015.000000</td>\n",
       "      <td>2015.000000</td>\n",
       "      <td>98199.000000</td>\n",
       "      <td>477.776000</td>\n",
       "      <td>-121.315000</td>\n",
       "      <td>4950.000000</td>\n",
       "      <td>871200.000000</td>\n",
       "    </tr>\n",
       "  </tbody>\n",
       "</table>\n",
       "</div>"
      ],
      "text/plain": [
       "                 id          price      bedrooms     bathrooms   sqft living  \\\n",
       "count  2.009500e+04   20095.000000  20095.000000  20095.000000  20095.000000   \n",
       "mean   4.610466e+09  467065.093207      3.319781      2.038044   1954.059517   \n",
       "std    2.878156e+09  195522.284942      0.910581      0.703023    755.198372   \n",
       "min    1.000102e+06   75000.000000      0.000000      0.000000    290.000000   \n",
       "25%    2.141301e+09  314000.000000      3.000000      1.500000   1390.000000   \n",
       "50%    3.905121e+09  433000.000000      3.000000      2.000000   1840.000000   \n",
       "75%    7.340601e+09  592000.000000      4.000000      2.500000   2410.000000   \n",
       "max    9.900000e+09  999999.000000     33.000000      7.500000   7480.000000   \n",
       "\n",
       "           sqft lot        floors    waterfront          view     condition  \\\n",
       "count  2.009500e+04  20095.000000  20095.000000  20095.000000  20095.000000   \n",
       "mean   1.452180e+04      1.471062      0.002886      0.161383      3.404081   \n",
       "std    4.002382e+04      0.536441      0.053648      0.617406      0.645434   \n",
       "min    5.200000e+02      1.000000      0.000000      0.000000      1.000000   \n",
       "25%    5.000000e+03      1.000000      0.000000      0.000000      3.000000   \n",
       "50%    7.500000e+03      1.000000      0.000000      0.000000      3.000000   \n",
       "75%    1.026000e+04      2.000000      0.000000      0.000000      4.000000   \n",
       "max    1.651359e+06      3.500000      1.000000      4.000000      5.000000   \n",
       "\n",
       "              grade    sqft above  sqft basement      yr built  yr renovated  \\\n",
       "count  20095.000000  20095.000000   20095.000000  20095.000000  20095.000000   \n",
       "mean       7.502662   1691.611694     262.447823   1970.778353     72.578900   \n",
       "std        1.014075    711.325325     403.682585     29.095242    373.572506   \n",
       "min        1.000000    290.000000       0.000000   1900.000000      0.000000   \n",
       "25%        7.000000   1170.000000       0.000000   1952.000000      0.000000   \n",
       "50%        7.000000   1500.000000       0.000000   1974.000000      0.000000   \n",
       "75%        8.000000   2080.000000     500.000000   1996.000000      0.000000   \n",
       "max       12.000000   5710.000000    2720.000000   2015.000000   2015.000000   \n",
       "\n",
       "            zipcode           lat          long  sqft living15     sqft lot15  \n",
       "count  20095.000000  20095.000000  20095.000000   20095.000000   20095.000000  \n",
       "mean   98078.579099    430.656508   -122.213130    1907.721125   12391.785021  \n",
       "std       53.299835    131.159160      0.142614     600.508764   26471.802613  \n",
       "min    98001.000000     47.184000   -122.519000     399.000000     651.000000  \n",
       "25%    98033.000000    473.774000   -122.330000    1460.000000    5040.000000  \n",
       "50%    98065.000000    475.453000   -122.233000    1790.000000    7529.000000  \n",
       "75%    98118.000000    476.715000   -122.122000    2260.000000    9836.500000  \n",
       "max    98199.000000    477.776000   -121.315000    4950.000000  871200.000000  "
      ]
     },
     "execution_count": 7,
     "metadata": {},
     "output_type": "execute_result"
    }
   ],
   "source": [
    "# Perfilar los datos\n",
    "data_t.describe()"
   ]
  },
  {
   "cell_type": "code",
   "execution_count": 8,
   "metadata": {},
   "outputs": [
    {
     "name": "stdout",
     "output_type": "stream",
     "text": [
      "<class 'pandas.core.frame.DataFrame'>\n",
      "RangeIndex: 20095 entries, 0 to 20094\n",
      "Data columns (total 21 columns):\n",
      " #   Column         Non-Null Count  Dtype  \n",
      "---  ------         --------------  -----  \n",
      " 0   id             20095 non-null  int64  \n",
      " 1   date           20095 non-null  object \n",
      " 2   price          20095 non-null  int64  \n",
      " 3   bedrooms       20095 non-null  int64  \n",
      " 4   bathrooms      20095 non-null  float64\n",
      " 5   sqft living    20095 non-null  int64  \n",
      " 6   sqft lot       20095 non-null  int64  \n",
      " 7   floors         20095 non-null  float64\n",
      " 8   waterfront     20095 non-null  int64  \n",
      " 9   view           20095 non-null  int64  \n",
      " 10  condition      20095 non-null  int64  \n",
      " 11  grade          20095 non-null  int64  \n",
      " 12  sqft above     20095 non-null  int64  \n",
      " 13  sqft basement  20095 non-null  int64  \n",
      " 14  yr built       20095 non-null  int64  \n",
      " 15  yr renovated   20095 non-null  int64  \n",
      " 16  zipcode        20095 non-null  int64  \n",
      " 17  lat            20095 non-null  float64\n",
      " 18  long           20095 non-null  float64\n",
      " 19  sqft living15  20095 non-null  int64  \n",
      " 20  sqft lot15     20095 non-null  int64  \n",
      "dtypes: float64(4), int64(16), object(1)\n",
      "memory usage: 3.2+ MB\n"
     ]
    }
   ],
   "source": [
    "# Tipos de datos\n",
    "data_t.info()"
   ]
  },
  {
   "cell_type": "code",
   "execution_count": 9,
   "metadata": {},
   "outputs": [
    {
     "data": {
      "text/plain": [
       "id               0.0\n",
       "date             0.0\n",
       "price            0.0\n",
       "bedrooms         0.0\n",
       "bathrooms        0.0\n",
       "sqft living      0.0\n",
       "sqft lot         0.0\n",
       "floors           0.0\n",
       "waterfront       0.0\n",
       "view             0.0\n",
       "condition        0.0\n",
       "grade            0.0\n",
       "sqft above       0.0\n",
       "sqft basement    0.0\n",
       "yr built         0.0\n",
       "yr renovated     0.0\n",
       "zipcode          0.0\n",
       "lat              0.0\n",
       "long             0.0\n",
       "sqft living15    0.0\n",
       "sqft lot15       0.0\n",
       "dtype: float64"
      ]
     },
     "execution_count": 9,
     "metadata": {},
     "output_type": "execute_result"
    }
   ],
   "source": [
    "# ¿Hay ausencias?\n",
    "data_t.isna().sum()/len(data_t)"
   ]
  },
  {
   "cell_type": "code",
   "execution_count": 10,
   "metadata": {},
   "outputs": [
    {
     "data": {
      "text/plain": [
       "0"
      ]
     },
     "execution_count": 10,
     "metadata": {},
     "output_type": "execute_result"
    }
   ],
   "source": [
    "# ¿Hay duplicados?\n",
    "data_t.duplicated(keep = 'first').sum()"
   ]
  },
  {
   "cell_type": "code",
   "execution_count": 11,
   "metadata": {},
   "outputs": [
    {
     "data": {
      "text/plain": [
       "<matplotlib.axes._subplots.AxesSubplot at 0x1a8c8ece6d0>"
      ]
     },
     "execution_count": 11,
     "metadata": {},
     "output_type": "execute_result"
    },
    {
     "data": {
      "image/png": "[encoded data removed]",
      "text/plain": [
       "<Figure size 432x288 with 1 Axes>"
      ]
     },
     "metadata": {
      "needs_background": "light"
     },
     "output_type": "display_data"
    }
   ],
   "source": [
    "# ¿Hay outliers? \n",
    "sns.boxplot(y=data_t['sqft living'], orient=\"h\")"
   ]
  },
  {
   "cell_type": "code",
   "execution_count": 12,
   "metadata": {},
   "outputs": [
    {
     "data": {
      "text/plain": [
       "<matplotlib.axes._subplots.AxesSubplot at 0x1a8c8e3bb20>"
      ]
     },
     "execution_count": 12,
     "metadata": {},
     "output_type": "execute_result"
    },
    {
     "data": {
      "image/png": "[encoded data removed]",
      "text/plain": [
       "<Figure size 432x288 with 1 Axes>"
      ]
     },
     "metadata": {
      "needs_background": "light"
     },
     "output_type": "display_data"
    }
   ],
   "source": [
    "sns.boxplot(y=data_t['bathrooms'], orient=\"h\")"
   ]
  },
  {
   "cell_type": "markdown",
   "metadata": {},
   "source": [
    "### 4. Preparación de los datos"
   ]
  },
  {
   "cell_type": "code",
   "execution_count": 13,
   "metadata": {},
   "outputs": [],
   "source": [
    "# Eliminación del indentificador de fila y código zip\n",
    "data_t=data_t.drop(['id', 'date','zipcode'], axis=1)"
   ]
  },
  {
   "cell_type": "code",
   "execution_count": 14,
   "metadata": {},
   "outputs": [
    {
     "data": {
      "text/plain": [
       "<matplotlib.axes._subplots.AxesSubplot at 0x1a8c8e2ec10>"
      ]
     },
     "execution_count": 14,
     "metadata": {},
     "output_type": "execute_result"
    },
    {
     "data": {
      "image/png": "[encoded data removed]",
      "text/plain": [
       "<Figure size 1080x1080 with 2 Axes>"
      ]
     },
     "metadata": {
      "needs_background": "light"
     },
     "output_type": "display_data"
    }
   ],
   "source": [
    "# ¿Hay correlación entre variables?\n",
    "plt.figure(figsize =(15,15))\n",
    "correlacion = data_t.corr()\n",
    "sns.heatmap(correlacion, cmap = 'GnBu', annot = True)"
   ]
  },
  {
   "cell_type": "markdown",
   "metadata": {},
   "source": [
    "### 5. Construcción del modelo"
   ]
  },
  {
   "cell_type": "code",
   "execution_count": 15,
   "metadata": {},
   "outputs": [],
   "source": [
    "# Se selecciona la variable objetivo, en este caso \"precio\".\n",
    "Y=data_t['price']\n",
    "# Del conjunto de datos se elimina la variable \"precio\".\n",
    "X=data_t.drop(['price'], axis=1)"
   ]
  },
  {
   "cell_type": "code",
   "execution_count": 16,
   "metadata": {},
   "outputs": [
    {
     "data": {
      "text/html": [
       "<div>\n",
       "<style scoped>\n",
       "    .dataframe tbody tr th:only-of-type {\n",
       "        vertical-align: middle;\n",
       "    }\n",
       "\n",
       "    .dataframe tbody tr th {\n",
       "        vertical-align: top;\n",
       "    }\n",
       "\n",
       "    .dataframe thead th {\n",
       "        text-align: right;\n",
       "    }\n",
       "</style>\n",
       "<table border=\"1\" class=\"dataframe\">\n",
       "  <thead>\n",
       "    <tr style=\"text-align: right;\">\n",
       "      <th></th>\n",
       "      <th>bedrooms</th>\n",
       "      <th>bathrooms</th>\n",
       "      <th>sqft living</th>\n",
       "      <th>sqft lot</th>\n",
       "      <th>floors</th>\n",
       "      <th>waterfront</th>\n",
       "      <th>view</th>\n",
       "      <th>condition</th>\n",
       "      <th>grade</th>\n",
       "      <th>sqft above</th>\n",
       "      <th>sqft basement</th>\n",
       "      <th>yr built</th>\n",
       "      <th>yr renovated</th>\n",
       "      <th>lat</th>\n",
       "      <th>long</th>\n",
       "      <th>sqft living15</th>\n",
       "      <th>sqft lot15</th>\n",
       "    </tr>\n",
       "  </thead>\n",
       "  <tbody>\n",
       "    <tr>\n",
       "      <th>0</th>\n",
       "      <td>3</td>\n",
       "      <td>1.75</td>\n",
       "      <td>1520</td>\n",
       "      <td>6380</td>\n",
       "      <td>1.0</td>\n",
       "      <td>0</td>\n",
       "      <td>0</td>\n",
       "      <td>3</td>\n",
       "      <td>7</td>\n",
       "      <td>790</td>\n",
       "      <td>730</td>\n",
       "      <td>1948</td>\n",
       "      <td>0</td>\n",
       "      <td>47.695</td>\n",
       "      <td>-122.304</td>\n",
       "      <td>1520</td>\n",
       "      <td>6235</td>\n",
       "    </tr>\n",
       "    <tr>\n",
       "      <th>1</th>\n",
       "      <td>4</td>\n",
       "      <td>2.50</td>\n",
       "      <td>2570</td>\n",
       "      <td>7173</td>\n",
       "      <td>2.0</td>\n",
       "      <td>0</td>\n",
       "      <td>0</td>\n",
       "      <td>3</td>\n",
       "      <td>8</td>\n",
       "      <td>2570</td>\n",
       "      <td>0</td>\n",
       "      <td>2005</td>\n",
       "      <td>0</td>\n",
       "      <td>477.073</td>\n",
       "      <td>-122.110</td>\n",
       "      <td>2630</td>\n",
       "      <td>6026</td>\n",
       "    </tr>\n",
       "    <tr>\n",
       "      <th>2</th>\n",
       "      <td>3</td>\n",
       "      <td>2.50</td>\n",
       "      <td>2320</td>\n",
       "      <td>3980</td>\n",
       "      <td>2.0</td>\n",
       "      <td>0</td>\n",
       "      <td>0</td>\n",
       "      <td>3</td>\n",
       "      <td>8</td>\n",
       "      <td>2320</td>\n",
       "      <td>0</td>\n",
       "      <td>2003</td>\n",
       "      <td>0</td>\n",
       "      <td>475.391</td>\n",
       "      <td>-122.070</td>\n",
       "      <td>2580</td>\n",
       "      <td>3980</td>\n",
       "    </tr>\n",
       "    <tr>\n",
       "      <th>3</th>\n",
       "      <td>2</td>\n",
       "      <td>1.50</td>\n",
       "      <td>1190</td>\n",
       "      <td>1265</td>\n",
       "      <td>3.0</td>\n",
       "      <td>0</td>\n",
       "      <td>0</td>\n",
       "      <td>3</td>\n",
       "      <td>7</td>\n",
       "      <td>1190</td>\n",
       "      <td>0</td>\n",
       "      <td>2005</td>\n",
       "      <td>0</td>\n",
       "      <td>477.274</td>\n",
       "      <td>-122.357</td>\n",
       "      <td>1390</td>\n",
       "      <td>1756</td>\n",
       "    </tr>\n",
       "    <tr>\n",
       "      <th>4</th>\n",
       "      <td>4</td>\n",
       "      <td>1.75</td>\n",
       "      <td>2330</td>\n",
       "      <td>5000</td>\n",
       "      <td>1.5</td>\n",
       "      <td>0</td>\n",
       "      <td>0</td>\n",
       "      <td>4</td>\n",
       "      <td>7</td>\n",
       "      <td>1510</td>\n",
       "      <td>820</td>\n",
       "      <td>1929</td>\n",
       "      <td>0</td>\n",
       "      <td>476.823</td>\n",
       "      <td>-122.368</td>\n",
       "      <td>1460</td>\n",
       "      <td>5000</td>\n",
       "    </tr>\n",
       "  </tbody>\n",
       "</table>\n",
       "</div>"
      ],
      "text/plain": [
       "   bedrooms  bathrooms  sqft living  sqft lot  floors  waterfront  view  \\\n",
       "0         3       1.75         1520      6380     1.0           0     0   \n",
       "1         4       2.50         2570      7173     2.0           0     0   \n",
       "2         3       2.50         2320      3980     2.0           0     0   \n",
       "3         2       1.50         1190      1265     3.0           0     0   \n",
       "4         4       1.75         2330      5000     1.5           0     0   \n",
       "\n",
       "   condition  grade  sqft above  sqft basement  yr built  yr renovated  \\\n",
       "0          3      7         790            730      1948             0   \n",
       "1          3      8        2570              0      2005             0   \n",
       "2          3      8        2320              0      2003             0   \n",
       "3          3      7        1190              0      2005             0   \n",
       "4          4      7        1510            820      1929             0   \n",
       "\n",
       "       lat     long  sqft living15  sqft lot15  \n",
       "0   47.695 -122.304           1520        6235  \n",
       "1  477.073 -122.110           2630        6026  \n",
       "2  475.391 -122.070           2580        3980  \n",
       "3  477.274 -122.357           1390        1756  \n",
       "4  476.823 -122.368           1460        5000  "
      ]
     },
     "execution_count": 16,
     "metadata": {},
     "output_type": "execute_result"
    }
   ],
   "source": [
    "# Mostramos nuestros datos\n",
    "X.head()"
   ]
  },
  {
   "cell_type": "code",
   "execution_count": 17,
   "metadata": {},
   "outputs": [
    {
     "data": {
      "text/plain": [
       "0    438000\n",
       "1    719000\n",
       "2    580500\n",
       "3    280000\n",
       "4    687500\n",
       "Name: price, dtype: int64"
      ]
     },
     "execution_count": 17,
     "metadata": {},
     "output_type": "execute_result"
    }
   ],
   "source": [
    "Y.head()"
   ]
  },
  {
   "cell_type": "code",
   "execution_count": 18,
   "metadata": {},
   "outputs": [],
   "source": [
    "# Se realiza la división entrenamiento - test. Se deja 20% de los datos para el test.\n",
    "X_train, X_test, Y_train, Y_test = train_test_split( X, Y, test_size=0.2, random_state=0)"
   ]
  },
  {
   "cell_type": "markdown",
   "metadata": {},
   "source": [
    "Antes de construir el modelo debemos crear un objeto de la clase LinearRegression."
   ]
  },
  {
   "cell_type": "code",
   "execution_count": 19,
   "metadata": {},
   "outputs": [
    {
     "data": {
      "text/plain": [
       "LinearRegression()"
      ]
     },
     "execution_count": 19,
     "metadata": {},
     "output_type": "execute_result"
    }
   ],
   "source": [
    "# Primero se crea el objeto para construir el modelo\n",
    "modelo_regresion = LinearRegression()\n",
    "# Podemos verificar que lo hemos construido.\n",
    "modelo_regresion"
   ]
  },
  {
   "cell_type": "markdown",
   "metadata": {},
   "source": [
    "A continuación, procedemos a entrenar el modelo utilizando el conjunto de entrenamiento."
   ]
  },
  {
   "cell_type": "code",
   "execution_count": 20,
   "metadata": {},
   "outputs": [
    {
     "data": {
      "text/plain": [
       "LinearRegression()"
      ]
     },
     "execution_count": 20,
     "metadata": {},
     "output_type": "execute_result"
    }
   ],
   "source": [
    "# Ajustar el modelo con los datos de entrenamiento\n",
    "modelo_regresion.fit(X_train,Y_train)"
   ]
  },
  {
   "cell_type": "markdown",
   "metadata": {},
   "source": [
    "### 6. Evaluación del modelo\n",
    "Las métricas de evaluación nos van a permitir determinar qué tan bien se desempeña un modelo; es decir, cómo se ajusta a los datos. En esta sección se utilizan las siguientes métricas\n",
    "\n",
    "1. Mean-Squared-Error(MSE). Error medio cuadrático\n",
    "2. Mean-Absolute-Error(MAE). Error absoluto medio\n",
    "3. R² or Coeficiente de determinación."
   ]
  },
  {
   "cell_type": "code",
   "execution_count": 21,
   "metadata": {},
   "outputs": [
    {
     "name": "stdout",
     "output_type": "stream",
     "text": [
      "MSE: 129353.28\n",
      "MAE: 101938.13\n",
      "R²: 0.56\n"
     ]
    }
   ],
   "source": [
    "# Se obtienen las predicciones del modelo sobre el conjunto de entrenamiento.\n",
    "y_pred = modelo_regresion.predict(X_train)\n",
    "# Se obtienen las métricas a partir de la predicción y la base de evaluación (valores reales).\n",
    "print(\"MSE: %.2f\" % mean_squared_error(Y_train, y_pred, squared=False))\n",
    "print(\"MAE: %.2f\" % mean_absolute_error(Y_train, y_pred))\n",
    "print('R²: %.2f' % r2_score(Y_train, y_pred))"
   ]
  },
  {
   "cell_type": "code",
   "execution_count": 22,
   "metadata": {
    "scrolled": true
   },
   "outputs": [
    {
     "name": "stdout",
     "output_type": "stream",
     "text": [
      "MSE: 131199.68\n",
      "MAE: 103677.96\n",
      "R²: 0.55\n"
     ]
    }
   ],
   "source": [
    "# Se obtienen las predicciones del modelo sobre el conjunto test.\n",
    "y_pred = modelo_regresion.predict(X_test)\n",
    "# Se obtienen las métricas a partir de la predicción y la base de evaluación (valores reales).\n",
    "print(\"MSE: %.2f\" % mean_squared_error(Y_test, y_pred, squared=False))\n",
    "print(\"MAE: %.2f\" % mean_absolute_error(Y_test, y_pred))\n",
    "print('R²: %.2f' % r2_score(Y_test, y_pred))"
   ]
  },
  {
   "cell_type": "markdown",
   "metadata": {},
   "source": [
    "Una vez determinado el rendimiento de generalización utilizando el conjunto test podemos tomar todos los datos y construir el modelo final."
   ]
  },
  {
   "cell_type": "code",
   "execution_count": 23,
   "metadata": {},
   "outputs": [
    {
     "data": {
      "text/plain": [
       "LinearRegression()"
      ]
     },
     "execution_count": 23,
     "metadata": {},
     "output_type": "execute_result"
    }
   ],
   "source": [
    "# Ajustar el modelo con los datos de entrenamiento\n",
    "modelo_regresion.fit(X,Y)"
   ]
  },
  {
   "cell_type": "code",
   "execution_count": 24,
   "metadata": {},
   "outputs": [
    {
     "data": {
      "text/plain": [
       "array([-1.21076848e+04,  2.56259805e+04,  4.23834719e+01,  1.50764162e-01,\n",
       "        5.24600511e+04,  8.68104810e+04,  1.59949108e+04,  1.68541291e+04,\n",
       "        8.74904717e+04,  5.57273660e+00,  3.68107353e+01, -2.52143423e+03,\n",
       "        3.06607758e+00,  2.20995592e+00, -1.11745285e+04,  5.90932871e+01,\n",
       "       -2.26956211e-01])"
      ]
     },
     "execution_count": 24,
     "metadata": {},
     "output_type": "execute_result"
    }
   ],
   "source": [
    "# Podemos visualizar los parámetros del modelos (coeficientes de regresión)\n",
    "modelo_regresion.coef_"
   ]
  },
  {
   "cell_type": "code",
   "execution_count": 25,
   "metadata": {},
   "outputs": [
    {
     "data": {
      "text/html": [
       "<div>\n",
       "<style scoped>\n",
       "    .dataframe tbody tr th:only-of-type {\n",
       "        vertical-align: middle;\n",
       "    }\n",
       "\n",
       "    .dataframe tbody tr th {\n",
       "        vertical-align: top;\n",
       "    }\n",
       "\n",
       "    .dataframe thead th {\n",
       "        text-align: right;\n",
       "    }\n",
       "</style>\n",
       "<table border=\"1\" class=\"dataframe\">\n",
       "  <thead>\n",
       "    <tr style=\"text-align: right;\">\n",
       "      <th></th>\n",
       "      <th>Atributo</th>\n",
       "      <th>Importancia</th>\n",
       "    </tr>\n",
       "  </thead>\n",
       "  <tbody>\n",
       "    <tr>\n",
       "      <th>0</th>\n",
       "      <td>grade</td>\n",
       "      <td>87490.471695</td>\n",
       "    </tr>\n",
       "    <tr>\n",
       "      <th>1</th>\n",
       "      <td>waterfront</td>\n",
       "      <td>86810.480975</td>\n",
       "    </tr>\n",
       "    <tr>\n",
       "      <th>2</th>\n",
       "      <td>floors</td>\n",
       "      <td>52460.051121</td>\n",
       "    </tr>\n",
       "    <tr>\n",
       "      <th>3</th>\n",
       "      <td>bathrooms</td>\n",
       "      <td>25625.980493</td>\n",
       "    </tr>\n",
       "    <tr>\n",
       "      <th>4</th>\n",
       "      <td>condition</td>\n",
       "      <td>16854.129148</td>\n",
       "    </tr>\n",
       "    <tr>\n",
       "      <th>5</th>\n",
       "      <td>view</td>\n",
       "      <td>15994.910773</td>\n",
       "    </tr>\n",
       "    <tr>\n",
       "      <th>6</th>\n",
       "      <td>sqft living15</td>\n",
       "      <td>59.093287</td>\n",
       "    </tr>\n",
       "    <tr>\n",
       "      <th>7</th>\n",
       "      <td>sqft living</td>\n",
       "      <td>42.383472</td>\n",
       "    </tr>\n",
       "    <tr>\n",
       "      <th>8</th>\n",
       "      <td>sqft basement</td>\n",
       "      <td>36.810735</td>\n",
       "    </tr>\n",
       "    <tr>\n",
       "      <th>9</th>\n",
       "      <td>sqft above</td>\n",
       "      <td>5.572737</td>\n",
       "    </tr>\n",
       "    <tr>\n",
       "      <th>10</th>\n",
       "      <td>yr renovated</td>\n",
       "      <td>3.066078</td>\n",
       "    </tr>\n",
       "    <tr>\n",
       "      <th>11</th>\n",
       "      <td>lat</td>\n",
       "      <td>2.209956</td>\n",
       "    </tr>\n",
       "    <tr>\n",
       "      <th>12</th>\n",
       "      <td>sqft lot</td>\n",
       "      <td>0.150764</td>\n",
       "    </tr>\n",
       "    <tr>\n",
       "      <th>13</th>\n",
       "      <td>sqft lot15</td>\n",
       "      <td>-0.226956</td>\n",
       "    </tr>\n",
       "    <tr>\n",
       "      <th>14</th>\n",
       "      <td>yr built</td>\n",
       "      <td>-2521.434227</td>\n",
       "    </tr>\n",
       "    <tr>\n",
       "      <th>15</th>\n",
       "      <td>long</td>\n",
       "      <td>-11174.528534</td>\n",
       "    </tr>\n",
       "    <tr>\n",
       "      <th>16</th>\n",
       "      <td>bedrooms</td>\n",
       "      <td>-12107.684769</td>\n",
       "    </tr>\n",
       "  </tbody>\n",
       "</table>\n",
       "</div>"
      ],
      "text/plain": [
       "         Atributo   Importancia\n",
       "0           grade  87490.471695\n",
       "1      waterfront  86810.480975\n",
       "2          floors  52460.051121\n",
       "3       bathrooms  25625.980493\n",
       "4       condition  16854.129148\n",
       "5            view  15994.910773\n",
       "6   sqft living15     59.093287\n",
       "7     sqft living     42.383472\n",
       "8   sqft basement     36.810735\n",
       "9      sqft above      5.572737\n",
       "10   yr renovated      3.066078\n",
       "11            lat      2.209956\n",
       "12       sqft lot      0.150764\n",
       "13     sqft lot15     -0.226956\n",
       "14       yr built  -2521.434227\n",
       "15           long -11174.528534\n",
       "16       bedrooms -12107.684769"
      ]
     },
     "execution_count": 25,
     "metadata": {},
     "output_type": "execute_result"
    }
   ],
   "source": [
    "# importancia_atributo = pd.DataFrame(data={\"Atributo\": X_train.columns,\"Importancia\": importancia})\n",
    "importancia = modelo_regresion.coef_\n",
    "importancia_atributo = pd.DataFrame(data={\"Atributo\": X_train.columns,\"Importancia\": importancia})\n",
    "importancia_atributo = importancia_atributo.sort_values(by='Importancia', ascending=False).reset_index(drop=True)\n",
    "importancia_atributo"
   ]
  },
  {
   "cell_type": "markdown",
   "metadata": {},
   "source": [
    "### 7. Interpretación del modelo\n",
    "Otro aspecto que debemos tener en cuenta es la significancia estadística de los coeficientes. Para determinarla, se aplica la prueba t de Student o t-test, con las siguientes hipótesis sobre los coeficientes:\n",
    "\n",
    "H0: wi = 0, es decir, no hay una relación lineal entre la variable dependiente y la independiente.\n",
    "\n",
    "Ha: wi ≠ 0, es decir, sí existe una relación lineal entre ambas variables.\n",
    "\n",
    "El p-valor (en inglés p-value) del coeficiente verifica entonces la hipótesis nula de la siguiente forma:\n",
    "Si el p-valor es menor o igual que el nivel de significancia seleccionado, entonces se puede afirmar que los datos suministran suficiente evidencia para rechazar la hipótesis nula. Es decir, cambios en la variable independiente estarán asociados con cambios en la variable dependiente y esta relación es estadísticamente significativa, por lo que la variable independiente será importante para el modelo de regresión.\n",
    "Si el p-valor es mayor que el nivel de significancia, entonces no hay suficiente evidencia en los datos para rechazar la hipótesis nula y concluir que w1 es significativamente diferente de 0.\n",
    "\n",
    "Por otra parte, el valor de un coeficiente determina cuánto aumenta o se reduce el valor promedio de la variable dependiente cuando la independiente cambia por una unidad. El signo del coeficiente indica si la relación es positiva o negativa.\n",
    "\n",
    "\n",
    "Podemos sacar un reporte que nos va a permitir analizar estadísticos del modelo."
   ]
  },
  {
   "cell_type": "code",
   "execution_count": 28,
   "metadata": {},
   "outputs": [
    {
     "data": {
      "text/html": [
       "<table class=\"simpletable\">\n",
       "<caption>OLS Regression Results</caption>\n",
       "<tr>\n",
       "  <th>Dep. Variable:</th>          <td>price</td>      <th>  R-squared (uncentered):</th>       <td>   0.934</td>  \n",
       "</tr>\n",
       "<tr>\n",
       "  <th>Model:</th>                   <td>OLS</td>       <th>  Adj. R-squared (uncentered):</th>  <td>   0.934</td>  \n",
       "</tr>\n",
       "<tr>\n",
       "  <th>Method:</th>             <td>Least Squares</td>  <th>  F-statistic:       </th>           <td>1.786e+04</td> \n",
       "</tr>\n",
       "<tr>\n",
       "  <th>Date:</th>             <td>Mon, 20 Sep 2021</td> <th>  Prob (F-statistic):</th>            <td>  0.00</td>   \n",
       "</tr>\n",
       "<tr>\n",
       "  <th>Time:</th>                 <td>06:47:00</td>     <th>  Log-Likelihood:    </th>          <td>-2.6510e+05</td>\n",
       "</tr>\n",
       "<tr>\n",
       "  <th>No. Observations:</th>      <td> 20095</td>      <th>  AIC:               </th>           <td>5.302e+05</td> \n",
       "</tr>\n",
       "<tr>\n",
       "  <th>Df Residuals:</th>          <td> 20079</td>      <th>  BIC:               </th>           <td>5.304e+05</td> \n",
       "</tr>\n",
       "<tr>\n",
       "  <th>Df Model:</th>              <td>    16</td>      <th>                     </th>               <td> </td>     \n",
       "</tr>\n",
       "<tr>\n",
       "  <th>Covariance Type:</th>      <td>nonrobust</td>    <th>                     </th>               <td> </td>     \n",
       "</tr>\n",
       "</table>\n",
       "<table class=\"simpletable\">\n",
       "<tr>\n",
       "        <td></td>           <th>coef</th>     <th>std err</th>      <th>t</th>      <th>P>|t|</th>  <th>[0.025</th>    <th>0.975]</th>  \n",
       "</tr>\n",
       "<tr>\n",
       "  <th>bedrooms</th>      <td>-1.208e+04</td> <td> 1294.683</td> <td>   -9.328</td> <td> 0.000</td> <td>-1.46e+04</td> <td>-9539.365</td>\n",
       "</tr>\n",
       "<tr>\n",
       "  <th>bathrooms</th>     <td> 2.533e+04</td> <td> 2254.538</td> <td>   11.237</td> <td> 0.000</td> <td> 2.09e+04</td> <td> 2.98e+04</td>\n",
       "</tr>\n",
       "<tr>\n",
       "  <th>sqft living</th>   <td>   42.4723</td> <td>    1.690</td> <td>   25.129</td> <td> 0.000</td> <td>   39.159</td> <td>   45.785</td>\n",
       "</tr>\n",
       "<tr>\n",
       "  <th>sqft lot</th>      <td>    0.1576</td> <td>    0.032</td> <td>    4.859</td> <td> 0.000</td> <td>    0.094</td> <td>    0.221</td>\n",
       "</tr>\n",
       "<tr>\n",
       "  <th>floors</th>        <td> 5.123e+04</td> <td> 2407.074</td> <td>   21.283</td> <td> 0.000</td> <td> 4.65e+04</td> <td> 5.59e+04</td>\n",
       "</tr>\n",
       "<tr>\n",
       "  <th>waterfront</th>    <td> 8.458e+04</td> <td>  1.8e+04</td> <td>    4.708</td> <td> 0.000</td> <td> 4.94e+04</td> <td>  1.2e+05</td>\n",
       "</tr>\n",
       "<tr>\n",
       "  <th>view</th>          <td> 1.564e+04</td> <td> 1624.643</td> <td>    9.628</td> <td> 0.000</td> <td> 1.25e+04</td> <td> 1.88e+04</td>\n",
       "</tr>\n",
       "<tr>\n",
       "  <th>condition</th>     <td> 1.729e+04</td> <td> 1555.749</td> <td>   11.116</td> <td> 0.000</td> <td> 1.42e+04</td> <td> 2.03e+04</td>\n",
       "</tr>\n",
       "<tr>\n",
       "  <th>grade</th>         <td> 8.677e+04</td> <td> 1458.175</td> <td>   59.509</td> <td> 0.000</td> <td> 8.39e+04</td> <td> 8.96e+04</td>\n",
       "</tr>\n",
       "<tr>\n",
       "  <th>sqft above</th>    <td>    6.6139</td> <td>    1.608</td> <td>    4.113</td> <td> 0.000</td> <td>    3.462</td> <td>    9.766</td>\n",
       "</tr>\n",
       "<tr>\n",
       "  <th>sqft basement</th> <td>   35.8584</td> <td>    1.865</td> <td>   19.232</td> <td> 0.000</td> <td>   32.204</td> <td>   39.513</td>\n",
       "</tr>\n",
       "<tr>\n",
       "  <th>yr built</th>      <td>-2461.5707</td> <td>   44.309</td> <td>  -55.554</td> <td> 0.000</td> <td>-2548.421</td> <td>-2374.721</td>\n",
       "</tr>\n",
       "<tr>\n",
       "  <th>yr renovated</th>  <td>    3.7176</td> <td>    2.591</td> <td>    1.435</td> <td> 0.151</td> <td>   -1.362</td> <td>    8.797</td>\n",
       "</tr>\n",
       "<tr>\n",
       "  <th>lat</th>           <td>    2.3842</td> <td>    6.983</td> <td>    0.341</td> <td> 0.733</td> <td>  -11.303</td> <td>   16.071</td>\n",
       "</tr>\n",
       "<tr>\n",
       "  <th>long</th>          <td>-3.517e+04</td> <td>  702.565</td> <td>  -50.065</td> <td> 0.000</td> <td>-3.66e+04</td> <td>-3.38e+04</td>\n",
       "</tr>\n",
       "<tr>\n",
       "  <th>sqft living15</th> <td>   60.5207</td> <td>    2.475</td> <td>   24.457</td> <td> 0.000</td> <td>   55.670</td> <td>   65.371</td>\n",
       "</tr>\n",
       "<tr>\n",
       "  <th>sqft lot15</th>    <td>   -0.2140</td> <td>    0.049</td> <td>   -4.329</td> <td> 0.000</td> <td>   -0.311</td> <td>   -0.117</td>\n",
       "</tr>\n",
       "</table>\n",
       "<table class=\"simpletable\">\n",
       "<tr>\n",
       "  <th>Omnibus:</th>       <td>403.851</td> <th>  Durbin-Watson:     </th> <td>   1.960</td> \n",
       "</tr>\n",
       "<tr>\n",
       "  <th>Prob(Omnibus):</th> <td> 0.000</td>  <th>  Jarque-Bera (JB):  </th> <td> 474.838</td> \n",
       "</tr>\n",
       "<tr>\n",
       "  <th>Skew:</th>          <td> 0.297</td>  <th>  Prob(JB):          </th> <td>7.77e-104</td>\n",
       "</tr>\n",
       "<tr>\n",
       "  <th>Kurtosis:</th>      <td> 3.463</td>  <th>  Cond. No.          </th> <td>3.19e+17</td> \n",
       "</tr>\n",
       "</table><br/><br/>Warnings:<br/>[1] Standard Errors assume that the covariance matrix of the errors is correctly specified.<br/>[2] The smallest eigenvalue is 4.7e-22. This might indicate that there are<br/>strong multicollinearity problems or that the design matrix is singular."
      ],
      "text/plain": [
       "<class 'statsmodels.iolib.summary.Summary'>\n",
       "\"\"\"\n",
       "                                 OLS Regression Results                                \n",
       "=======================================================================================\n",
       "Dep. Variable:                  price   R-squared (uncentered):                   0.934\n",
       "Model:                            OLS   Adj. R-squared (uncentered):              0.934\n",
       "Method:                 Least Squares   F-statistic:                          1.786e+04\n",
       "Date:                Mon, 20 Sep 2021   Prob (F-statistic):                        0.00\n",
       "Time:                        06:47:00   Log-Likelihood:                     -2.6510e+05\n",
       "No. Observations:               20095   AIC:                                  5.302e+05\n",
       "Df Residuals:                   20079   BIC:                                  5.304e+05\n",
       "Df Model:                          16                                                  \n",
       "Covariance Type:            nonrobust                                                  \n",
       "=================================================================================\n",
       "                    coef    std err          t      P>|t|      [0.025      0.975]\n",
       "---------------------------------------------------------------------------------\n",
       "bedrooms      -1.208e+04   1294.683     -9.328      0.000   -1.46e+04   -9539.365\n",
       "bathrooms      2.533e+04   2254.538     11.237      0.000    2.09e+04    2.98e+04\n",
       "sqft living      42.4723      1.690     25.129      0.000      39.159      45.785\n",
       "sqft lot          0.1576      0.032      4.859      0.000       0.094       0.221\n",
       "floors         5.123e+04   2407.074     21.283      0.000    4.65e+04    5.59e+04\n",
       "waterfront     8.458e+04    1.8e+04      4.708      0.000    4.94e+04     1.2e+05\n",
       "view           1.564e+04   1624.643      9.628      0.000    1.25e+04    1.88e+04\n",
       "condition      1.729e+04   1555.749     11.116      0.000    1.42e+04    2.03e+04\n",
       "grade          8.677e+04   1458.175     59.509      0.000    8.39e+04    8.96e+04\n",
       "sqft above        6.6139      1.608      4.113      0.000       3.462       9.766\n",
       "sqft basement    35.8584      1.865     19.232      0.000      32.204      39.513\n",
       "yr built      -2461.5707     44.309    -55.554      0.000   -2548.421   -2374.721\n",
       "yr renovated      3.7176      2.591      1.435      0.151      -1.362       8.797\n",
       "lat               2.3842      6.983      0.341      0.733     -11.303      16.071\n",
       "long          -3.517e+04    702.565    -50.065      0.000   -3.66e+04   -3.38e+04\n",
       "sqft living15    60.5207      2.475     24.457      0.000      55.670      65.371\n",
       "sqft lot15       -0.2140      0.049     -4.329      0.000      -0.311      -0.117\n",
       "==============================================================================\n",
       "Omnibus:                      403.851   Durbin-Watson:                   1.960\n",
       "Prob(Omnibus):                  0.000   Jarque-Bera (JB):              474.838\n",
       "Skew:                           0.297   Prob(JB):                    7.77e-104\n",
       "Kurtosis:                       3.463   Cond. No.                     3.19e+17\n",
       "==============================================================================\n",
       "\n",
       "Warnings:\n",
       "[1] Standard Errors assume that the covariance matrix of the errors is correctly specified.\n",
       "[2] The smallest eigenvalue is 4.7e-22. This might indicate that there are\n",
       "strong multicollinearity problems or that the design matrix is singular.\n",
       "\"\"\""
      ]
     },
     "execution_count": 28,
     "metadata": {},
     "output_type": "execute_result"
    }
   ],
   "source": [
    "# Ajustar el modelo para ver el reporte\n",
    "model = sm.OLS(Y, X).fit() ## sm.OLS(output, input)\n",
    "# Mostrar las estadísticas del modelo\n",
    "model.summary()"
   ]
  },
  {
   "cell_type": "markdown",
   "metadata": {},
   "source": [
    "### 8. Almacenamiento  del modelo.\n",
    "Puedes guardar tu modelo para que lo puedas recuperar cuando lo desees o llevarlo a producción."
   ]
  },
  {
   "cell_type": "code",
   "execution_count": 27,
   "metadata": {},
   "outputs": [],
   "source": [
    "# Una forma de guardar el modelo es a través de la funcionalidad joblib.\n",
    "import joblib"
   ]
  },
  {
   "cell_type": "code",
   "execution_count": null,
   "metadata": {},
   "outputs": [],
   "source": [
    "# Ahora guardamos el modelo con el nombre que selecciones.\n",
    "joblib.dump(modelo_regresion, 'ModeloRegresion.joblib')\n",
    "# Si lo quieres recuperar más tarde puedes utilizar la siguiente instrucción:\n",
    "# modelo = load('ModeloRegresion.joblib') "
   ]
  }
 ],
 "metadata": {
  "kernelspec": {
   "display_name": "Python 3",
   "language": "python",
   "name": "python3"
  },
  "language_info": {
   "codemirror_mode": {
    "name": "ipython",
    "version": 3
   },
   "file_extension": ".py",
   "mimetype": "text/x-python",
   "name": "python",
   "nbconvert_exporter": "python",
   "pygments_lexer": "ipython3",
   "version": "3.8.3"
  }
 },
 "nbformat": 4,
 "nbformat_minor": 4
}
